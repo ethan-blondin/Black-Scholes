{
 "cells": [
  {
   "cell_type": "markdown",
   "id": "0d743c74-8b6f-4aff-b03b-a929fa4f8a22",
   "metadata": {},
   "source": [
    "# Option Pricing model"
   ]
  },
  {
   "cell_type": "markdown",
   "id": "d3b4f4a9-12b2-4f19-b520-150f2e27a416",
   "metadata": {},
   "source": [
    "We start with the definition of the various inputs used in the Black-Scholes-Merton model.\n",
    "\n",
    "Underlying Price (S): The current market price of the asset.\r\n",
    "\r\n",
    "Strike Price (K): The predetermined price at which the option can be exercis\n",
    "\r\n",
    "\r\n",
    "\r\n",
    "Time to Expiration (T): The time left (in years) until the option’s expiration\n",
    "te.\r\n",
    "\r\n",
    "\r\n",
    "Risk Free Rate (r): The constant rate of return on a risk-free asset, such as a governm\n",
    "Vbond.\r\n",
    "\r\n",
    "\r\n",
    "Volatility (σ): A measure of how much the price of the underlying asset\n",
    "\n",
    "\n",
    "\n",
    "\n",
    "$$\r\n",
    "C = S N(d_1) - K e^{-rt} N(d_2)\r\n",
    "$$\r\n",
    "\r\n",
    "where:\r\n",
    "\r\n",
    "$$\r\n",
    "d_1 = \\frac{\\ln\\left(\\frac{S}{K}\\right) + \\left(r + \\frac{\\sigma^2}{2}\\right)t}{\\sigma\\sqrt{t}}\r\n",
    "$$\r\n",
    "\r\n",
    "and\r\n",
    "\r\n",
    "$$\r\n",
    "d_2 = d_1 - \\sigma\\sqrt{t}\r\n",
    "$$\r\n",
    "\r\n",
    "and where:\r\n",
    "\r\n",
    "* $C = \\text{Call option price}$\r\n",
    "* $S = \\text{Current stock (or other underlying) price}$\r\n",
    "* $K = \\text{Strike price}$\r\n",
    "* $r = \\text{Risk-free interest rate}$\r\n",
    "* $t = \\text{Time to maturity}$\r\n",
    "* $N = \\text{A normal distribution CDF}$\n",
    " fluctuates."
   ]
  },
  {
   "cell_type": "code",
   "execution_count": 62,
   "id": "affd65ce-4ef5-44fd-91d2-d1f7832b0236",
   "metadata": {},
   "outputs": [],
   "source": [
    "import math\n",
    "from scipy.stats import norm\n",
    "import numpy as np\n",
    "import matplotlib.pyplot as plt"
   ]
  },
  {
   "cell_type": "code",
   "execution_count": 27,
   "id": "cb41a48a-ec2c-42a9-a666-5cad6e8f7171",
   "metadata": {},
   "outputs": [],
   "source": [
    "S = 45  # Underlying Price TBRd\n",
    "K = 40  # Strike Price TBRd\n",
    "T = 2   # Time to Maturity TBRd\n",
    "r = 0.1 # Risk-Free Rate  TBRd\n",
    "vol = 0.1 # Volatility (σ)  TBRd"
   ]
  },
  {
   "cell_type": "markdown",
   "id": "68bda330-a4ec-4424-839b-de227ad34f8e",
   "metadata": {},
   "source": [
    "# European option pricing"
   ]
  },
  {
   "cell_type": "code",
   "execution_count": 49,
   "id": "fc1ea53b-e4ab-4102-b3c7-7f28d5b07b0c",
   "metadata": {},
   "outputs": [],
   "source": [
    "# Calculation of d1 and d2\n",
    "def BSM_EU (S, K, T, r, vol) :\n",
    "    \n",
    "    d1 = (math.log(S/K) + (r + 0.5 * vol **2) * T ) / (vol * math.sqrt(T))\n",
    "    d2 = d1 - vol*math.sqrt(T)\n",
    "    \n",
    "    price_UScall = S * norm.cdf(d1) - K* math.exp(-r*T)*norm.cdf(d2)  \n",
    "    price_USput =  K* math.exp(-r*T)*norm.cdf(-d2) - S * norm.cdf(-d1)\n",
    "    \n",
    "    print (f'The US call option price is {price_UScall:.2f}$.')\n",
    "    print (f'The US put option price is {price_USput:.2f}$.')"
   ]
  },
  {
   "cell_type": "code",
   "execution_count": 51,
   "id": "2bfa5122-e0f4-4eb2-9f66-85486668d5dc",
   "metadata": {},
   "outputs": [
    {
     "name": "stdout",
     "output_type": "stream",
     "text": [
      "The US call option price is 12.27$.\n",
      "The US put option price is 0.02$.\n"
     ]
    }
   ],
   "source": [
    "BSM_EU(S,K,T,r,vol)"
   ]
  },
  {
   "cell_type": "code",
   "execution_count": 59,
   "id": "7f4b7fc6-de21-49f4-8390-66f2f8d7d627",
   "metadata": {},
   "outputs": [],
   "source": [
    "def black_scholes_greeks(S, K, T, r, vol):\n",
    "    d1 = (math.log(S / K) + (r + 0.5 * vol**2) * T) / (vol * math.sqrt(T))\n",
    "    d2 = d1 - vol * math.sqrt(T)\n",
    "\n",
    "    delta_c = norm.cdf(d1)\n",
    "    gamma_c = norm.pdf(d1) / (S * vol * math.sqrt(T))\n",
    "    vega_c = S * norm.pdf(d1) * math.sqrt(T) / 100  # per 1% change\n",
    "    theta_c = (-S * norm.pdf(d1) * vol / (2 * math.sqrt(T)) \n",
    "                 - r * K * math.exp(-r * T) * norm.cdf(d2)) / 365\n",
    "    rho_c = K * T * math.exp(-r * T) * norm.cdf(d2) / 100\n",
    "\n",
    "    delta_p = -norm.cdf(-d1)\n",
    "    gamma_p = norm.pdf(d1) / (S * vol * math.sqrt(T))\n",
    "    vega_p = S * norm.pdf(d1) * math.sqrt(T) / 100  # per 1% change\n",
    "    thetac_p = (-S * norm.pdf(d1) * vol / (2 * math.sqrt(T)) \n",
    "                 + r * K * math.exp(-r * T) * norm.cdf(-d2)) / 365\n",
    "    rhoc_p = -K * T * math.exp(-r * T) * norm.cdf(-d2) / 100\n",
    "\n",
    "    print(f\"For a European call option:\\n\"\n",
    "          f\"  Delta: {delta_c:.4f}\\n\"\n",
    "          f\"  Gamma: {gamma:.4f}\\n\"\n",
    "          f\"  Vega : {vega:.4f}\\n\"\n",
    "          f\"  Theta: {theta_c:.4f}\\n\"\n",
    "          f\"  Rho  : {rho_c:.4f}\")\n",
    "\n",
    "    print(f\"\\nFor a European put option:\\n\"\n",
    "          f\"  Delta: {delta_p:.4f}\\n\"\n",
    "          f\"  Gamma: {gamma:.4f}\\n\"\n",
    "          f\"  Vega : {vega:.4f}\\n\"\n",
    "          f\"  Theta: {theta_p:.4f}\\n\"\n",
    "          f\"  Rho  : {rho_p:.4f}\")\n",
    "\n",
    "\n"
   ]
  },
  {
   "cell_type": "markdown",
   "id": "e6ecf101-4937-4d84-a0a8-7bab60acb956",
   "metadata": {},
   "source": [
    "# American option"
   ]
  },
  {
   "cell_type": "markdown",
   "id": "a9faaa8c-6929-4837-aca3-86415fef0e29",
   "metadata": {},
   "source": [
    "American options differ from European ones in that they can be exercised at any moment before their maturity.\n",
    "\n",
    "To handle this possibility, we estimated the expected payoff of holding the option until its maturity before arbitrating on whether to keep or sell the option."
   ]
  },
  {
   "cell_type": "code",
   "execution_count": null,
   "id": "eb56d9c7-9c32-417e-a73d-00831f9db4ee",
   "metadata": {},
   "outputs": [],
   "source": [
    "import numpy as np\n",
    "\n",
    "def bsm_american_put(S0, K, T, r, vol, steps=50, paths=10000):\n",
    "    dt = T / steps\n",
    "    discount = np.exp(-r * dt)\n",
    "    np.random.seed(0)\n",
    "\n",
    "    # Simulate asset price paths using GBM\n",
    "    Z = np.random.randn(paths, steps)\n",
    "    S = np.zeros((paths, steps + 1))\n",
    "    S[:, 0] = S0\n",
    "\n",
    "    for t in range(1, steps + 1):\n",
    "        S[:, t] = S[:, t - 1] * np.exp((r - 0.5 * vol ** 2) * dt + vol * np.sqrt(dt) * Z[:, t - 1])\n",
    "\n",
    "    # Calculate payoff at all steps (American put)\n",
    "    payoff = np.maximum(K - S, 0)\n",
    "\n",
    "    # Start with terminal cashflow\n",
    "    cashflow = payoff[:, -1]\n",
    "\n",
    "    # Backward induction for early exercise decision\n",
    "    for t in range(steps - 1, 0, -1):\n",
    "        in_the_money = payoff[:, t] > 0\n",
    "        X = S[in_the_money, t]\n",
    "        Y = cashflow[in_the_money] * discount\n",
    "\n",
    "        if len(X) == 0:\n",
    "            continue\n",
    "\n",
    "        # Polynomial regression (2nd degree)\n",
    "        A = np.vstack([np.ones_like(X), X, X**2]).T\n",
    "        coeffs = np.linalg.lstsq(A, Y, rcond=None)[0]\n",
    "        continuation = coeffs[0] + coeffs[1] * X + coeffs[2] * X**2\n",
    "\n",
    "        # Exercise decision\n",
    "        exercise = payoff[in_the_money, t] > continuation\n",
    "        cashflow[in_the_money] = np.where(exercise, payoff[in_the_money, t],\n",
    "                                          cashflow[in_the_money] * discount)\n",
    "\n",
    "    # Final discounted expected value\n",
    "    price = np.mean(cashflow) * np.exp(-r * dt)\n",
    "    return price\n"
   ]
  },
  {
   "cell_type": "markdown",
   "id": "dc465422-bb3c-4899-bc5e-c4da195f52cb",
   "metadata": {},
   "source": [
    "Note sur la constuction d'une application\n",
    "\n",
    "il faudrait un outil de visualisation de grecs sur la période de vie d'une (vraie) option.\n",
    "-> ça veut dire qu'il faudrait connecter les inputs à un broker"
   ]
  }
 ],
 "metadata": {
  "kernelspec": {
   "display_name": "Python 3 (ipykernel)",
   "language": "python",
   "name": "python3"
  },
  "language_info": {
   "codemirror_mode": {
    "name": "ipython",
    "version": 3
   },
   "file_extension": ".py",
   "mimetype": "text/x-python",
   "name": "python",
   "nbconvert_exporter": "python",
   "pygments_lexer": "ipython3",
   "version": "3.12.4"
  }
 },
 "nbformat": 4,
 "nbformat_minor": 5
}
